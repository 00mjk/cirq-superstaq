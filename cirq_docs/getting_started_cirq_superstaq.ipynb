{
 "cells": [
  {
   "cell_type": "markdown",
   "id": "0879112f",
   "metadata": {},
   "source": [
    "#### *Copyright 2021 The Cirq Developers*"
   ]
  },
  {
   "cell_type": "code",
   "execution_count": 8,
   "id": "52d57d1f",
   "metadata": {},
   "outputs": [],
   "source": [
    "#@title Licensed under the Apache License, Version 2.0 (the \"License\");\n",
    "# you may not use this file except in compliance with the License.\n",
    "# You may obtain a copy of the License at\n",
    "#\n",
    "# https://www.apache.org/licenses/LICENSE-2.0\n",
    "#\n",
    "# Unless required by applicable law or agreed to in writing, software\n",
    "# distributed under the License is distributed on an \"AS IS\" BASIS,\n",
    "# WITHOUT WARRANTIES OR CONDITIONS OF ANY KIND, either express or implied.\n",
    "# See the License for the specific language governing permissions and\n",
    "# limitations under the License."
   ]
  },
  {
   "cell_type": "markdown",
   "id": "0074f3e4",
   "metadata": {},
   "source": [
    "<table class=\"tfo-notebook-buttons\" align=\"left\">\n",
    "  <td>\n",
    "    <a target=\"_blank\" href=\"https://quantumai.google/cirq/tutorials/cirq-superstaq/getting_started\"><img src=\"https://quantumai.google/site-assets/images/buttons/quantumai_logo_1x.png\" />View on QuantumAI</a>\n",
    "  </td>\n",
    "  <td>\n",
    "    <a target=\"_blank\" href=\"https://colab.research.google.com/github/quantumlib/Cirq/blob/master/docs/tutorials/cirq-superstaq/getting_started_cirq_superstaq.ipynb\"><img src=\"https://quantumai.google/site-assets/images/buttons/colab_logo_1x.png\" />Run in Google Colab</a>\n",
    "  </td>\n",
    "  <td>\n",
    "    <a target=\"_blank\" href=\"https://github.com/quantumlib/Cirq/blob/master/docs/tutorials/cirq-superstaq/getting_started_cirq_superstaq.ipynb\"><img src=\"https://quantumai.google/site-assets/images/buttons/github_logo_1x.png\" />View source on GitHub</a>\n",
    "  </td>\n",
    "  <td>\n",
    "    <a href=\"https://storage.googleapis.com/tensorflow_docs/Cirq/docs/tutorials/cirq-superstaq/getting_started_cirq_superstaq.ipynb\"><img src=\"https://quantumai.google/site-assets/images/buttons/download_icon_1x.png\" />Download notebook</a>\n",
    "  </td>\n",
    "</table>"
   ]
  },
  {
   "cell_type": "markdown",
   "id": "459c07ab",
   "metadata": {},
   "source": [
    "# Cirq-SuperstaQ Tutorial"
   ]
  },
  {
   "cell_type": "markdown",
   "id": "20871935",
   "metadata": {},
   "source": [
    "Please note that Python version `3.7` or higher is required. Creating and submitting a circuitthrough Cirq-SuperstaQ requires an API access token. Visit https://www.super.tech/about-superstaq/ to find out how you can obtain a token."
   ]
  },
  {
   "cell_type": "code",
   "execution_count": 4,
   "id": "e1745408",
   "metadata": {},
   "outputs": [],
   "source": [
    "import cirq.cirq_superstaq as cirq_superstaq"
   ]
  },
  {
   "cell_type": "markdown",
   "id": "c2e2e09a",
   "metadata": {},
   "source": [
    "### Build a Cirq Circuit"
   ]
  },
  {
   "cell_type": "markdown",
   "id": "7fdecdf4",
   "metadata": {},
   "source": [
    "Build a cirquit, e.g., a Bell state $$\\lvert\\psi\\rangle = \\frac{1}{\\sqrt{2}}\\lvert00\\rangle + \\frac{1}{\\sqrt{2}}\\rvert11\\rangle$$ with the following:"
   ]
  },
  {
   "cell_type": "code",
   "execution_count": 5,
   "id": "dbc0de1c",
   "metadata": {},
   "outputs": [
    {
     "name": "stdout",
     "output_type": "stream",
     "text": [
      "0: ───H───@───M───\n",
      "          │\n",
      "1: ───────X───────\n"
     ]
    }
   ],
   "source": [
    "q0 = cirq.LineQubit(0)\n",
    "q1 = cirq.LineQubit(1)\n",
    "circuit = cirq.Circuit(cirq.H(q0), cirq.CNOT(q0, q1), cirq.measure(q0))\n",
    "print(circuit)"
   ]
  },
  {
   "cell_type": "markdown",
   "id": "af018900",
   "metadata": {},
   "source": [
    "### Use SuperstaQ Credentials to Run a Job"
   ]
  },
  {
   "cell_type": "markdown",
   "id": "cf1858f8",
   "metadata": {},
   "source": [
    "Using the API access token you acquired at https://superstaq.super.tech, you can run a job on a specified target device (e.g., here `ibm_qasm_simulator` is used as the target device)."
   ]
  },
  {
   "cell_type": "code",
   "execution_count": 6,
   "id": "42d612b0",
   "metadata": {},
   "outputs": [],
   "source": [
    "service = cirq_superstaq.Service(\n",
    "    api_key = \"\"\"Insert SuperstaQ token that you received from https://superstaq.super.tech\"\"\",\n",
    "    verbose=True,\n",
    ")"
   ]
  },
  {
   "cell_type": "code",
   "execution_count": 7,
   "id": "49eeb5af",
   "metadata": {},
   "outputs": [
    {
     "name": "stdout",
     "output_type": "stream",
     "text": [
      "Job status:  Running\n",
      "{'1': 1}\n"
     ]
    }
   ],
   "source": [
    "job = service.create_job(circuit=circuit, repetitions=1, target=\"ibmq_qasm_simulator\")\n",
    "print(\"Job status: \", job.status())\n",
    "print(job.counts())"
   ]
  }
 ],
 "metadata": {
  "kernelspec": {
   "display_name": "Python 3 (ipykernel)",
   "language": "python",
   "name": "python3"
  },
  "language_info": {
   "codemirror_mode": {
    "name": "ipython",
    "version": 3
   },
   "file_extension": ".py",
   "mimetype": "text/x-python",
   "name": "python",
   "nbconvert_exporter": "python",
   "pygments_lexer": "ipython3",
   "version": "3.8.10"
  }
 },
 "nbformat": 4,
 "nbformat_minor": 5
}
