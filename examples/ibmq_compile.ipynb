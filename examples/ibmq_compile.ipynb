{
 "cells": [
  {
   "cell_type": "code",
   "execution_count": 1,
   "id": "eaecf5a2",
   "metadata": {},
   "outputs": [],
   "source": [
    "import cirq\n",
    "import cirq_superstaq"
   ]
  },
  {
   "cell_type": "code",
   "execution_count": 2,
   "id": "f564d771",
   "metadata": {},
   "outputs": [],
   "source": [
    "service = cirq_superstaq.Service(api_key=\"ya29.a0ARrdaM_PTkbul-5I0CNB9VucwKHpZjfuRLWmPJuqIz6wpDQ5b_S03Vv2jITHcM6SkA6nyt8-nEsNpEK3i__H6srCykJIK_ubYtOed2TQg-XzN5qWK21PMUfUGNR1wB67_h8mpDBifse3CWKnkLgEYEGu0GoK9Q\")"
   ]
  },
  {
   "cell_type": "code",
   "execution_count": 3,
   "id": "d8aed384",
   "metadata": {},
   "outputs": [],
   "source": [
    "qubits = cirq.LineQubit.range(3)"
   ]
  },
  {
   "cell_type": "code",
   "execution_count": 4,
   "id": "6d566fca",
   "metadata": {},
   "outputs": [],
   "source": [
    "circuit = cirq.Circuit(cirq_superstaq.AceCRPlusMinus(qubits[0], qubits[1]))"
   ]
  },
  {
   "cell_type": "code",
   "execution_count": 5,
   "id": "2d522785",
   "metadata": {},
   "outputs": [
    {
     "data": {
      "text/html": [
       "<pre style=\"overflow: auto; white-space: pre;\">0: ───X───</pre>"
      ],
      "text/plain": [
       "0: ───X───"
      ]
     },
     "execution_count": 5,
     "metadata": {},
     "output_type": "execute_result"
    }
   ],
   "source": [
    "circuit"
   ]
  },
  {
   "cell_type": "code",
   "execution_count": 6,
   "id": "2962b6b5",
   "metadata": {},
   "outputs": [],
   "source": [
    "out = service.ibmq_compile(circuit, target=\"ibmq_jakarta\")"
   ]
  },
  {
   "cell_type": "code",
   "execution_count": 9,
   "id": "ae601f27",
   "metadata": {
    "scrolled": true
   },
   "outputs": [
    {
     "data": {
      "image/png": "[encoded data removed]",
      "text/plain": [
       "<Figure size 936x118.8 with 1 Axes>"
      ]
     },
     "metadata": {
      "needs_background": "light"
     },
     "output_type": "display_data"
    }
   ],
   "source": [
    "_ = out.draw()"
   ]
  },
  {
   "cell_type": "code",
   "execution_count": null,
   "id": "db945b01",
   "metadata": {},
   "outputs": [],
   "source": []
  }
 ],
 "metadata": {
  "kernelspec": {
   "display_name": "Python 3 (ipykernel)",
   "language": "python",
   "name": "python3"
  },
  "language_info": {
   "codemirror_mode": {
    "name": "ipython",
    "version": 3
   },
   "file_extension": ".py",
   "mimetype": "text/x-python",
   "name": "python",
   "nbconvert_exporter": "python",
   "pygments_lexer": "ipython3",
   "version": "3.8.5"
  }
 },
 "nbformat": 4,
 "nbformat_minor": 5
}
