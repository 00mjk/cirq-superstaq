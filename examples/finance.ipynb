{
 "cells": [
  {
   "cell_type": "markdown",
   "id": "c7dec4fd-8cff-4c6c-91db-d458d94315aa",
   "metadata": {},
   "source": [
    "## Finance\n"
   ]
  },
  {
   "cell_type": "code",
   "execution_count": null,
   "id": "029917c7-091c-4563-98b2-b1bf4d532660",
   "metadata": {},
   "outputs": [],
   "source": [
    "import cirq_superstaq\n",
    "import cirq\n",
    "import qubovert as qv "
   ]
  },
  {
   "cell_type": "code",
   "execution_count": null,
   "id": "17b49e6e-5fef-4e77-bffa-c00a00ce12ee",
   "metadata": {},
   "outputs": [],
   "source": [
    "service = cirq_superstaq.Service(\n",
    "    api_key=\"\"\"Insert superstaq token that you received from https://superstaq.super.tech\"\"\",\n",
    ")"
   ]
  },
  {
   "cell_type": "code",
   "execution_count": null,
   "id": "f13ac60d-5e5f-400c-bc03-6f52fd0242a9",
   "metadata": {},
   "outputs": [],
   "source": [
    "service.get_balance()"
   ]
  },
  {
   "cell_type": "markdown",
   "id": "17fa2fe0-9e6a-4bf2-a984-0ec4ff167a77",
   "metadata": {},
   "source": [
    "## Random number generator on IBM and AWS"
   ]
  },
  {
   "cell_type": "code",
   "execution_count": null,
   "id": "359a5c12-140f-4be5-b9d5-ab8fc0df4f8b",
   "metadata": {},
   "outputs": [],
   "source": [
    "qubits = cirq.LineQubit.range(5)"
   ]
  },
  {
   "cell_type": "code",
   "execution_count": null,
   "id": "78be76bb-3bbd-4d5d-92ec-d84799a42585",
   "metadata": {},
   "outputs": [],
   "source": [
    "circuit = cirq.Circuit()\n",
    "for q in qubits:\n",
    "    circuit += cirq.H(q)\n",
    "circuit += cirq.measure(*qubits)\n",
    "circuit"
   ]
  },
  {
   "cell_type": "code",
   "execution_count": null,
   "id": "ac6e398c-cc9e-4a43-99f1-bb575570f01f",
   "metadata": {},
   "outputs": [],
   "source": [
    "ibm_job = service.create_job(circuit, repetitions=100, target=\"ibmq_qasm_simulator\")"
   ]
  },
  {
   "cell_type": "code",
   "execution_count": null,
   "id": "0f40196f-14f3-4e6c-8797-e5efee29cf94",
   "metadata": {},
   "outputs": [],
   "source": [
    "aws_job = service.create_job(circuit, repetitions=100, target=\"aws_sv1_simulator\")"
   ]
  },
  {
   "cell_type": "code",
   "execution_count": null,
   "id": "83163e32",
   "metadata": {},
   "outputs": [],
   "source": [
    "bogota_job = service.create_job(circuit, repetitions=100, target=\"ibmq_casablanca\")"
   ]
  },
  {
   "cell_type": "code",
   "execution_count": null,
   "id": "97424de9-866b-40f4-98a2-72c858d2ac7a",
   "metadata": {},
   "outputs": [],
   "source": [
    "jobs = [ibm_job, aws_job, bogota_job]\n",
    "for job in jobs:\n",
    "    print(job.status())\n",
    "    if job.status() == \"Done\":\n",
    "        print(job.counts())\n",
    "    print()"
   ]
  },
  {
   "cell_type": "markdown",
   "id": "eb27a949-b8df-42ec-8c43-0fd25eddc3d6",
   "metadata": {},
   "source": [
    "## Get a finance QUBO"
   ]
  },
  {
   "cell_type": "code",
   "execution_count": null,
   "id": "b12b3bed-5d5c-4703-b9a5-dafd5d8e5bd1",
   "metadata": {},
   "outputs": [],
   "source": [
    "min_vol_output = service.find_min_vol_portfolio([\"MORN\", \"TSLA\", \"AAPL\", \"GME\"], 1.08)"
   ]
  },
  {
   "cell_type": "code",
   "execution_count": null,
   "id": "61fde89a-560c-4fc6-bca3-254b82f9f132",
   "metadata": {},
   "outputs": [],
   "source": [
    "min_vol_output.best_portfolio"
   ]
  },
  {
   "cell_type": "code",
   "execution_count": null,
   "id": "eecceafc-1f2c-4c58-bf6c-f5a9a8c1ea66",
   "metadata": {},
   "outputs": [],
   "source": [
    "min_vol_output.qubo"
   ]
  },
  {
   "cell_type": "markdown",
   "id": "46513875-81a3-491e-800c-e0a570f13b82",
   "metadata": {},
   "source": [
    "## Solve finance QUBO on D-Wave"
   ]
  },
  {
   "cell_type": "code",
   "execution_count": null,
   "id": "46f6775a-7c4f-42ce-b05e-3da66ac7363d",
   "metadata": {},
   "outputs": [],
   "source": [
    "qubo = qv.QUSO({\n",
    "    (\"MORN\", \"A\"): 223,\n",
    "    (\"B\", \"C\"): -32.2,\n",
    "    (\"D\",): -12\n",
    "})"
   ]
  },
  {
   "cell_type": "code",
   "execution_count": null,
   "id": "23558e16-cbd8-4d3b-94df-f64e97682cae",
   "metadata": {},
   "outputs": [],
   "source": [
    "qubo = qv.QUBO({('MORN',): 21.43733967565351,\n",
    " ('TSLA',): 335.2002387372022,\n",
    " ('AAPL',): 55.88924435366344,\n",
    " ('GME',): 113.89548132129258,\n",
    " ('TSLA', 'MORN'): 297.8534192167856,\n",
    " ('MORN', 'AAPL'): 143.66673441538418,\n",
    " ('MORN', 'GME'): 188.4988221454126,\n",
    " ('TSLA', 'AAPL'): 406.7092851118341,\n",
    " ('TSLA', 'GME'): 533.6344860838117,\n",
    " ('AAPL', 'GME'): 257.3923167272961,\n",
    " ('MORN', 'a0'): -14.506000085981796,\n",
    " ('MORN', 'a1'): -29.012000171963592,\n",
    " ('a2', 'MORN'): -58.024000343927185,\n",
    " ('MORN', 'a3'): -116.04800068785437,\n",
    " ('MORN', 'a4'): -232.09600137570874,\n",
    " ('MORN', 'a5'): -464.1920027514175,\n",
    " ('TSLA', 'a0'): -41.065547609585536,\n",
    " ('TSLA', 'a1'): -82.13109521917107,\n",
    " ('TSLA', 'a2'): -164.26219043834215,\n",
    " ('TSLA', 'a3'): -328.5243808766843,\n",
    " ('TSLA', 'a4'): -657.0487617533686,\n",
    " ('TSLA', 'a5'): -1314.0975235067372,\n",
    " ('AAPL', 'a0'): -19.80735447393358,\n",
    " ('AAPL', 'a1'): -39.61470894786716,\n",
    " ('a2', 'AAPL'): -79.22941789573431,\n",
    " ('AAPL', 'a3'): -158.45883579146863,\n",
    " ('AAPL', 'a4'): -316.91767158293726,\n",
    " ('AAPL', 'a5'): -633.8353431658745,\n",
    " ('GME', 'a0'): -25.988995446326868,\n",
    " ('GME', 'a1'): -51.977990892653736,\n",
    " ('a2', 'GME'): -103.95598178530747,\n",
    " ('GME', 'a3'): -207.91196357061494,\n",
    " ('GME', 'a4'): -415.8239271412299,\n",
    " ('GME', 'a5'): -831.6478542824598,\n",
    " (): 8.3264,\n",
    " ('a0',): 5.16,\n",
    " ('a1',): 12.32,\n",
    " ('a2',): 32.64,\n",
    " ('a3',): 97.28,\n",
    " ('a4',): 322.56,\n",
    " ('a5',): 1157.12,\n",
    " ('a1', 'a0'): 4,\n",
    " ('a2', 'a0'): 8,\n",
    " ('a0', 'a3'): 16,\n",
    " ('a4', 'a0'): 32,\n",
    " ('a0', 'a5'): 64,\n",
    " ('a2', 'a1'): 16,\n",
    " ('a1', 'a3'): 32,\n",
    " ('a4', 'a1'): 64,\n",
    " ('a1', 'a5'): 128,\n",
    " ('a2', 'a3'): 64,\n",
    " ('a2', 'a4'): 128,\n",
    " ('a2', 'a5'): 256,\n",
    " ('a4', 'a3'): 256,\n",
    " ('a5', 'a3'): 512,\n",
    " ('a4', 'a5'): 1024})"
   ]
  },
  {
   "cell_type": "code",
   "execution_count": null,
   "id": "10493a0a-b37c-41f8-b301-07b124d67161",
   "metadata": {},
   "outputs": [],
   "source": [
    "result = service.submit_qubo(qubo, target=\"dwave_2000\", repetitions=10000)"
   ]
  },
  {
   "cell_type": "code",
   "execution_count": null,
   "id": "d98d5e30-d1cc-42f7-b99b-d4c69a7942d7",
   "metadata": {},
   "outputs": [],
   "source": [
    "result"
   ]
  }
 ],
 "metadata": {
  "kernelspec": {
   "display_name": "Python 3 (ipykernel)",
   "language": "python",
   "name": "python3"
  },
  "language_info": {
   "codemirror_mode": {
    "name": "ipython",
    "version": 3
   },
   "file_extension": ".py",
   "mimetype": "text/x-python",
   "name": "python",
   "nbconvert_exporter": "python",
   "pygments_lexer": "ipython3",
   "version": "3.8.5"
  }
 },
 "nbformat": 4,
 "nbformat_minor": 5
}
